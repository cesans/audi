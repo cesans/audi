{
 "cells": [
  {
   "cell_type": "markdown",
   "metadata": {},
   "source": [
    "# The very basics\n",
    "(by Francesco Biscani and Dario Izzo)"
   ]
  },
  {
   "cell_type": "markdown",
   "metadata": {},
   "source": [
    "## 1 - Importing stuff\n",
    "gdual (a generalized dual number) is the main class of pyaudi and its, essentially, a new type that you can use instead of float. It represents a function value rather than just a value. The difference is that it contains also all derivatives of the function at the value. Arithmetic operators +,-,+,/ and \\** work on a gdual. Mathematical functions like sin, cos etc., also work on a gdual, but you must use the ones in the pyaudi module"
   ]
  },
  {
   "cell_type": "code",
   "execution_count": 1,
   "metadata": {
    "collapsed": false
   },
   "outputs": [],
   "source": [
    "from pyaudi import gdual, sin, cos, tan"
   ]
  },
  {
   "cell_type": "markdown",
   "metadata": {},
   "source": [
    "## 2 - Define some variables (gduals)\n",
    "We define three variables named \"x\", \"y\" and \"z\" and assign to them the value 0. We also set the maximum derivative order to 3. \n"
   ]
  },
  {
   "cell_type": "code",
   "execution_count": 2,
   "metadata": {
    "collapsed": false
   },
   "outputs": [],
   "source": [
    "x,y,z = [gdual(0.,_,3) for _ in \"xyz\"]"
   ]
  },
  {
   "cell_type": "markdown",
   "metadata": {},
   "source": [
    "## Create a function of these variables\n",
    "We can use standard arithmetics and the functions imported"
   ]
  },
  {
   "cell_type": "code",
   "execution_count": 3,
   "metadata": {
    "collapsed": false
   },
   "outputs": [
    {
     "name": "stdout",
     "output_type": "stream",
     "text": [
      "-dz+0.166667*dz**3+dx**2-2*dx*dy+2*dx*dy**2+0.666667*dx**3+2*dx\n"
     ]
    },
    {
     "data": {
      "text/latex": [
       "\\[ -{dz}+0.166667{dz}^{3}+{dx}^{2}-2{dx}{dy}+2{dx}{dy}^{2}+0.666667{dx}^{3}+2{dx}+\\mathcal{O}\\left(4\\right) \\]"
      ],
      "text/plain": [
       "-dz+0.166667*dz**3+dx**2-2*dx*dy+2*dx*dy**2+0.666667*dx**3+2*dx"
      ]
     },
     "execution_count": 3,
     "metadata": {},
     "output_type": "execute_result"
    }
   ],
   "source": [
    "f = x*x+2*tan(x/(y+1))-sin(z)\n",
    "print(f) # This prints the python expression of the Taylor expansion of f (all derivatives up to three are there represented discounted by the factorial factor)\n",
    "f # This prints the expression in LaTex format"
   ]
  },
  {
   "cell_type": "markdown",
   "metadata": {},
   "source": [
    "## Extracting the derivatives\n",
    "We can now extract the values of the derivatives of $f\\left(x,y,z\\right)$ with respect to $x,y,z$ in the point $\\left(0,0,0\\right)$. For instance, this is the value of $\\frac{\\partial f}{\\partial z}$:"
   ]
  },
  {
   "cell_type": "code",
   "execution_count": 4,
   "metadata": {
    "collapsed": false
   },
   "outputs": [
    {
     "data": {
      "text/plain": [
       "-1.0"
      ]
     },
     "execution_count": 4,
     "metadata": {},
     "output_type": "execute_result"
    }
   ],
   "source": [
    "f.get_derivative([0,0,1])"
   ]
  },
  {
   "cell_type": "markdown",
   "metadata": {},
   "source": [
    "This is $\\frac{\\partial^2 f}{\\partial x \\partial y}$:"
   ]
  },
  {
   "cell_type": "code",
   "execution_count": 5,
   "metadata": {
    "collapsed": false
   },
   "outputs": [
    {
     "data": {
      "text/plain": [
       "-2.0"
      ]
     },
     "execution_count": 5,
     "metadata": {},
     "output_type": "execute_result"
    }
   ],
   "source": [
    "f.get_derivative([1,1,0])"
   ]
  },
  {
   "cell_type": "markdown",
   "metadata": {},
   "source": [
    "## Changing the point\n",
    "By re-defining $x,y,z$, we can compute the derivatives in a different point. For instance, for the computation of the derivatives in the point $\\left(1,2,3\\right)$, we write:"
   ]
  },
  {
   "cell_type": "code",
   "execution_count": 6,
   "metadata": {
    "collapsed": false
   },
   "outputs": [
    {
     "data": {
      "text/latex": [
       "\\[ 0.07056{dz}^{2}+0.989992{dz}-0.164999{dz}^{3}-0.0354271{dy}^{3}+1.08617{dx}^{2}+0.0925294{dy}^{2}-0.306312{dx}{dy}-0.248865{dy}+0.133785{dx}{dy}^{2}+0.0375972{dx}^{3}+1.55139+2.74659{dx}-0.0950441{dx}^{2}{dy}+\\mathcal{O}\\left(4\\right) \\]"
      ],
      "text/plain": [
       "0.07056*dz**2+0.989992*dz-0.164999*dz**3-0.0354271*dy**3+1.08617*dx**2+0.0925294*dy**2-0.306312*dx*dy-0.248865*dy+0.133785*dx*dy**2+0.0375972*dx**3+1.55139+2.74659*dx-0.0950441*dx**2*dy"
      ]
     },
     "execution_count": 6,
     "metadata": {},
     "output_type": "execute_result"
    }
   ],
   "source": [
    "x = gdual(1.,\"x\",3)\n",
    "y = gdual(2.,\"y\",3)\n",
    "z = gdual(3.,\"z\",3)\n",
    "f = x*x+2*tan(x/(y+1))-sin(z)\n",
    "f"
   ]
  },
  {
   "cell_type": "markdown",
   "metadata": {},
   "source": [
    "Now $\\frac{\\partial f}{\\partial z}$:"
   ]
  },
  {
   "cell_type": "code",
   "execution_count": 7,
   "metadata": {
    "collapsed": false
   },
   "outputs": [
    {
     "data": {
      "text/plain": [
       "0.9899924966004454"
      ]
     },
     "execution_count": 7,
     "metadata": {},
     "output_type": "execute_result"
    }
   ],
   "source": [
    "f.get_derivative([0,0,1])"
   ]
  },
  {
   "cell_type": "markdown",
   "metadata": {},
   "source": [
    "We can verifiy the correctness by manually computing the derivative:"
   ]
  },
  {
   "cell_type": "code",
   "execution_count": 8,
   "metadata": {
    "collapsed": false
   },
   "outputs": [
    {
     "data": {
      "text/plain": [
       "0.9899924966004454"
      ]
     },
     "execution_count": 8,
     "metadata": {},
     "output_type": "execute_result"
    }
   ],
   "source": [
    "-cos(3.)"
   ]
  },
  {
   "cell_type": "markdown",
   "metadata": {
    "collapsed": true
   },
   "source": [
    "## Encapsulating f in a function call\n",
    "We may write all of the above in a more elegant fashion by just defining f as a function and then calling it with gduals, rather than floats"
   ]
  },
  {
   "cell_type": "code",
   "execution_count": 9,
   "metadata": {
    "collapsed": false
   },
   "outputs": [],
   "source": [
    "def f(x,y,z):\n",
    "    return x*x+2*tan(x/(y+1))-sin(z)"
   ]
  },
  {
   "cell_type": "code",
   "execution_count": 10,
   "metadata": {
    "collapsed": false
   },
   "outputs": [
    {
     "name": "stdout",
     "output_type": "stream",
     "text": [
      "0.07056*dz**2+0.989992*dz-0.164999*dz**3-0.0354271*dy**3+1.08617*dx**2+0.0925294*dy**2-0.306312*dx*dy-0.248865*dy+0.133785*dx*dy**2+0.0375972*dx**3+1.55139+2.74659*dx-0.0950441*dx**2*dy\n"
     ]
    },
    {
     "data": {
      "text/plain": [
       "1.5513870909612837"
      ]
     },
     "execution_count": 10,
     "metadata": {},
     "output_type": "execute_result"
    }
   ],
   "source": [
    "x = gdual(1.,\"x\",3)\n",
    "y = gdual(2.,\"y\",3)\n",
    "z = gdual(3.,\"z\",3)\n",
    "print(f(x,y,z)) #Call with gduals\n",
    "f(1.,2.,3.)     #Call with floats"
   ]
  },
  {
   "cell_type": "code",
   "execution_count": null,
   "metadata": {
    "collapsed": true
   },
   "outputs": [],
   "source": []
  }
 ],
 "metadata": {
  "kernelspec": {
   "display_name": "Python 3",
   "language": "python",
   "name": "python3"
  },
  "language_info": {
   "codemirror_mode": {
    "name": "ipython",
    "version": 3
   },
   "file_extension": ".py",
   "mimetype": "text/x-python",
   "name": "python",
   "nbconvert_exporter": "python",
   "pygments_lexer": "ipython3",
   "version": "3.5.1"
  }
 },
 "nbformat": 4,
 "nbformat_minor": 0
}
