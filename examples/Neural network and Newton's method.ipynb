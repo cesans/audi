{
 "cells": [
  {
   "cell_type": "code",
   "execution_count": 645,
   "metadata": {
    "collapsed": false
   },
   "outputs": [],
   "source": [
    "from pyaudi import gdual\n",
    "from pyaudi import sin, cos, tanh, exp, log\n",
    "import numpy as np\n",
    "import matplotlib.pyplot as plt\n",
    "\n",
    "%matplotlib inline"
   ]
  },
  {
   "cell_type": "markdown",
   "metadata": {},
   "source": [
    "Newton's method to train a neural network:\n",
    "\n",
    "    Inputs: 3\n",
    "    Hidden layers: 2 with 5 units/layer\n",
    "    Outputs: 1\n",
    "\n",
    "We need derivatives up to order 1"
   ]
  },
  {
   "cell_type": "code",
   "execution_count": 646,
   "metadata": {
    "collapsed": true
   },
   "outputs": [],
   "source": [
    "n_inputs = 20\n",
    "order = 2"
   ]
  },
  {
   "cell_type": "markdown",
   "metadata": {},
   "source": [
    "Create symbolic variables for the weights, initialized to $\\mathcal N(0,0.1)$"
   ]
  },
  {
   "cell_type": "code",
   "execution_count": 647,
   "metadata": {
    "collapsed": false
   },
   "outputs": [],
   "source": [
    "def initialize_weights(n_inputs, order):\n",
    "\n",
    "    weights = []\n",
    "    for unit in range(n_inputs+1):\n",
    "                symname = 'w_{{{0}}}'.format(unit)\n",
    "                w = gdual(np.random.randn(), symname , order)\n",
    "                weights.append(w)\n",
    "          \n",
    "    return weights\n",
    "\n",
    "weights = initialize_weights(n_inputs,order)"
   ]
  },
  {
   "cell_type": "code",
   "execution_count": 648,
   "metadata": {
    "collapsed": true
   },
   "outputs": [],
   "source": [
    "def sig(x):\n",
    "    return 1/(1+exp(-1*x))"
   ]
  },
  {
   "cell_type": "markdown",
   "metadata": {},
   "source": [
    "Create a function which output is the symbolic expression of the neural network"
   ]
  },
  {
   "cell_type": "code",
   "execution_count": 649,
   "metadata": {
    "collapsed": false
   },
   "outputs": [],
   "source": [
    "def logistic_regression_f(inputs, w):\n",
    "    \n",
    "    unit_output = w[0]\n",
    "    for unit in range(len(weights)-1):\n",
    "        unit_output += inputs[unit]*weights[unit+1]           \n",
    "    return sig(unit_output)"
   ]
  },
  {
   "cell_type": "markdown",
   "metadata": {},
   "source": [
    "Define symbolic variables for the inputs and compute the (random) output of the network"
   ]
  },
  {
   "cell_type": "code",
   "execution_count": 780,
   "metadata": {
    "collapsed": false,
    "scrolled": true
   },
   "outputs": [
    {
     "name": "stdout",
     "output_type": "stream",
     "text": [
      "N(x) = 0.9998405360080906\n"
     ]
    },
    {
     "data": {
      "text/latex": [
       "\\[ -3.70071e-05{dw_{17}}{dw_{7}}-1.4961e-05{dw_{10}}{dw_{13}}-2.11249e-05{dw_{12}}{dw_{17}}-3.43296e-05{dw_{3}}^{2}-1.48729e-06{dw_{10}}{dw_{8}}-7.51406e-07{dw_{8}}^{2}-1.25739e-05{dw_{18}}{dw_{3}}-6.24605e-06{dw_{0}}{dw_{16}}-4.51803e-05{dw_{12}}{dw_{14}}-1.66206e-05{dw_{17}}{dw_{6}}-6.48678e-06{dw_{2}}{dw_{6}}-2.20247e-05{dw_{0}}{dw_{4}}-9.64049e-05{dw_{0}}{dw_{14}}-1.58571e-05{dw_{20}}{dw_{9}}-2.12317e-05{dw_{1}}{dw_{9}}+1.89298e-05{dw_{20}}-3.72007e-06{dw_{20}}{dw_{5}}+2.53459e-05{dw_{1}}-0.000130414{dw_{11}}{dw_{9}}+0.000155685{dw_{11}}+\\ldots+\\mathcal{O}\\left(3\\right) \\]"
      ],
      "text/plain": [
       "-3.70071e-05*dw_{17}*dw_{7}-1.4961e-05*dw_{10}*dw_{13}-2.11249e-05*dw_{12}*dw_{17}-3.43296e-05*dw_{3}**2-1.48729e-06*dw_{10}*dw_{8}-7.51406e-07*dw_{8}**2-1.25739e-05*dw_{18}*dw_{3}-6.24605e-06*dw_{0}*dw_{16}-4.51803e-05*dw_{12}*dw_{14}-1.66206e-05*dw_{17}*dw_{6}-6.48678e-06*dw_{2}*dw_{6}-2.20247e-05*dw_{0}*dw_{4}-9.64049e-05*dw_{0}*dw_{14}-1.58571e-05*dw_{20}*dw_{9}-2.12317e-05*dw_{1}*dw_{9}+1.89298e-05*dw_{20}-3.72007e-06*dw_{20}*dw_{5}+2.53459e-05*dw_{1}-0.000130414*dw_{11}*dw_{9}+0.000155685*dw_{11}+..."
      ]
     },
     "execution_count": 780,
     "metadata": {},
     "output_type": "execute_result"
    }
   ],
   "source": [
    "x = np.random.rand(n_inputs)\n",
    "\n",
    "N = logistic_regression_f(x, weights)\n",
    "print('N(x) = {0}'.format(N.constant_cf))\n",
    "N"
   ]
  },
  {
   "cell_type": "markdown",
   "metadata": {},
   "source": [
    "The desired output of the network is: $y(\\mathcal x)= x_1x_2 + 0.5x_3 +2$"
   ]
  },
  {
   "cell_type": "code",
   "execution_count": 781,
   "metadata": {
    "collapsed": false
   },
   "outputs": [],
   "source": [
    "np.random.seed(0)\n",
    "proj_ws = np.random.rand(n_inputs,2)\n",
    "\n",
    "def vis_proj(x):\n",
    "    x = np.asarray(x)\n",
    "    x = x.reshape(-1,n_inputs)\n",
    "    np.random.seed(0)    \n",
    "    return np.dot(x,proj_ws)\n",
    "    "
   ]
  },
  {
   "cell_type": "code",
   "execution_count": 782,
   "metadata": {
    "collapsed": false
   },
   "outputs": [
    {
     "name": "stdout",
     "output_type": "stream",
     "text": [
      "y = [ 1.]\n"
     ]
    }
   ],
   "source": [
    "def y_f(x):\n",
    "    x = vis_proj(x)    \n",
    "    ws = np.asarray([1,0.4]).reshape(2,1)\n",
    "    y = np.sum(np.dot(x, ws),1)\n",
    "    y += np.random.randn(y.shape[0])\n",
    "    y[y>0] = 1\n",
    "    y[y<0] = 0\n",
    "    return y\n",
    "\n",
    "y = y_f(x)\n",
    "print('y = {0}'.format(y))"
   ]
  },
  {
   "cell_type": "code",
   "execution_count": 783,
   "metadata": {
    "collapsed": false
   },
   "outputs": [],
   "source": [
    "X_train = np.random.rand(500, n_inputs)*5-2.5\n",
    "X_test  = np.random.rand(500, n_inputs)*5-2.5\n",
    "\n",
    "Y_train = y_f(X_train)\n",
    "Y_test = y_f(X_test)"
   ]
  },
  {
   "cell_type": "code",
   "execution_count": 784,
   "metadata": {
    "collapsed": false
   },
   "outputs": [
    {
     "data": {
      "image/png": "[encoded data removed]",
      "text/plain": [
       "<matplotlib.figure.Figure at 0x7f37ceff4630>"
      ]
     },
     "metadata": {},
     "output_type": "display_data"
    }
   ],
   "source": [
    "X_vis = vis_proj(X_test)\n",
    "for i in range(X_test.shape[0]):\n",
    "    if Y_test[i] == 1:\n",
    "        plt.scatter(X_vis[i,0], X_vis[i,1], c='green', edgecolors='none')\n",
    "    else:\n",
    "        plt.scatter(X_vis[i,0], X_vis[i,1], c='red', edgecolors='none')\n",
    "        "
   ]
  },
  {
   "cell_type": "markdown",
   "metadata": {},
   "source": [
    "And the training process will seek to minimize a loss function corresponding to the quadratic error"
   ]
  },
  {
   "cell_type": "code",
   "execution_count": 785,
   "metadata": {
    "collapsed": false
   },
   "outputs": [
    {
     "name": "stdout",
     "output_type": "stream",
     "text": [
      "loss = -1.9998405360080906\n"
     ]
    },
    {
     "data": {
      "text/latex": [
       "\\[ 3.70071e-05{dw_{17}}{dw_{7}}+1.4961e-05{dw_{10}}{dw_{13}}+2.11249e-05{dw_{12}}{dw_{17}}+3.43296e-05{dw_{3}}^{2}+1.48729e-06{dw_{10}}{dw_{8}}+7.51406e-07{dw_{8}}^{2}+1.25739e-05{dw_{18}}{dw_{3}}+6.24605e-06{dw_{0}}{dw_{16}}+4.51803e-05{dw_{12}}{dw_{14}}+1.66206e-05{dw_{17}}{dw_{6}}+6.48678e-06{dw_{2}}{dw_{6}}+2.20247e-05{dw_{0}}{dw_{4}}+9.64049e-05{dw_{0}}{dw_{14}}+1.58571e-05{dw_{20}}{dw_{9}}+2.12317e-05{dw_{1}}{dw_{9}}-1.89298e-05{dw_{20}}+3.72007e-06{dw_{20}}{dw_{5}}-2.53459e-05{dw_{1}}+0.000130414{dw_{11}}{dw_{9}}-0.000155685{dw_{11}}+\\ldots+\\mathcal{O}\\left(3\\right) \\]"
      ],
      "text/plain": [
       "3.70071e-05*dw_{17}*dw_{7}+1.4961e-05*dw_{10}*dw_{13}+2.11249e-05*dw_{12}*dw_{17}+3.43296e-05*dw_{3}**2+1.48729e-06*dw_{10}*dw_{8}+7.51406e-07*dw_{8}**2+1.25739e-05*dw_{18}*dw_{3}+6.24605e-06*dw_{0}*dw_{16}+4.51803e-05*dw_{12}*dw_{14}+1.66206e-05*dw_{17}*dw_{6}+6.48678e-06*dw_{2}*dw_{6}+2.20247e-05*dw_{0}*dw_{4}+9.64049e-05*dw_{0}*dw_{14}+1.58571e-05*dw_{20}*dw_{9}+2.12317e-05*dw_{1}*dw_{9}-1.89298e-05*dw_{20}+3.72007e-06*dw_{20}*dw_{5}-2.53459e-05*dw_{1}+0.000130414*dw_{11}*dw_{9}-0.000155685*dw_{11}+..."
      ]
     },
     "execution_count": 785,
     "metadata": {},
     "output_type": "execute_result"
    }
   ],
   "source": [
    "def loss_f(N,y):\n",
    "    if N.constant_cf==0 or N.constant_cf==1:        \n",
    "        if N.constant_cf==y:\n",
    "            return N*0\n",
    "        else:\n",
    "            return N/N          \n",
    "    return -1*((N)**y+(1-N)**(1-y))\n",
    "\n",
    "loss = loss_f(N, y)\n",
    "print('loss = {0}'.format(loss.constant_cf))\n",
    "loss"
   ]
  },
  {
   "cell_type": "code",
   "execution_count": 786,
   "metadata": {
    "collapsed": true
   },
   "outputs": [],
   "source": [
    "def GD_update(loss, w, lr):\n",
    "    \n",
    "    for i in range(len(w)):\n",
    "                wi = w[i]\n",
    "                if wi.symbol_set[0] in loss.symbol_set:\n",
    "                    idx = loss.symbol_set.index(wi.symbol_set[0])\n",
    "                    dw_idx = [0]*loss.symbol_set_size                    \n",
    "                    dw_idx[idx] = 1\n",
    "                    w[i] -= loss.get_derivative(dw_idx) * lr\n",
    "    return w"
   ]
  },
  {
   "cell_type": "code",
   "execution_count": 799,
   "metadata": {
    "collapsed": false
   },
   "outputs": [],
   "source": [
    "initial_weights = initialize_weights(n_inputs, order)                "
   ]
  },
  {
   "cell_type": "code",
   "execution_count": 800,
   "metadata": {
    "collapsed": false
   },
   "outputs": [
    {
     "name": "stdout",
     "output_type": "stream",
     "text": [
      "Epoch 0: accuracy 0.5920000000000004\n"
     ]
    },
    {
     "ename": "KeyboardInterrupt",
     "evalue": "",
     "output_type": "error",
     "traceback": [
      "\u001b[1;31m---------------------------------------------------------------------------\u001b[0m",
      "\u001b[1;31mKeyboardInterrupt\u001b[0m                         Traceback (most recent call last)",
      "\u001b[1;32m<ipython-input-800-7e7f54001826>\u001b[0m in \u001b[0;36m<module>\u001b[1;34m()\u001b[0m\n\u001b[0;32m     23\u001b[0m     \u001b[0mloss\u001b[0m \u001b[1;33m=\u001b[0m \u001b[1;36m0\u001b[0m\u001b[1;33m\u001b[0m\u001b[0m\n\u001b[0;32m     24\u001b[0m     \u001b[1;32mfor\u001b[0m \u001b[0mxi\u001b[0m \u001b[1;32min\u001b[0m \u001b[0mX_train\u001b[0m\u001b[1;33m:\u001b[0m\u001b[1;33m\u001b[0m\u001b[0m\n\u001b[1;32m---> 25\u001b[1;33m             \u001b[0mN\u001b[0m \u001b[1;33m=\u001b[0m \u001b[0mlogistic_regression_f\u001b[0m\u001b[1;33m(\u001b[0m\u001b[0mxi\u001b[0m\u001b[1;33m,\u001b[0m \u001b[0mweights\u001b[0m\u001b[1;33m)\u001b[0m\u001b[1;33m\u001b[0m\u001b[0m\n\u001b[0m\u001b[0;32m     26\u001b[0m             \u001b[0mloss\u001b[0m \u001b[1;33m+=\u001b[0m \u001b[0mloss_f\u001b[0m\u001b[1;33m(\u001b[0m\u001b[0mN\u001b[0m\u001b[1;33m,\u001b[0m \u001b[0my_f\u001b[0m\u001b[1;33m(\u001b[0m\u001b[0mxi\u001b[0m\u001b[1;33m)\u001b[0m\u001b[1;33m)\u001b[0m\u001b[1;33m\u001b[0m\u001b[0m\n\u001b[0;32m     27\u001b[0m \u001b[1;33m\u001b[0m\u001b[0m\n",
      "\u001b[1;32m<ipython-input-649-32aa78b97409>\u001b[0m in \u001b[0;36mlogistic_regression_f\u001b[1;34m(inputs, w)\u001b[0m\n\u001b[0;32m      4\u001b[0m     \u001b[1;32mfor\u001b[0m \u001b[0munit\u001b[0m \u001b[1;32min\u001b[0m \u001b[0mrange\u001b[0m\u001b[1;33m(\u001b[0m\u001b[0mlen\u001b[0m\u001b[1;33m(\u001b[0m\u001b[0mweights\u001b[0m\u001b[1;33m)\u001b[0m\u001b[1;33m-\u001b[0m\u001b[1;36m1\u001b[0m\u001b[1;33m)\u001b[0m\u001b[1;33m:\u001b[0m\u001b[1;33m\u001b[0m\u001b[0m\n\u001b[0;32m      5\u001b[0m         \u001b[0munit_output\u001b[0m \u001b[1;33m+=\u001b[0m \u001b[0minputs\u001b[0m\u001b[1;33m[\u001b[0m\u001b[0munit\u001b[0m\u001b[1;33m]\u001b[0m\u001b[1;33m*\u001b[0m\u001b[0mweights\u001b[0m\u001b[1;33m[\u001b[0m\u001b[0munit\u001b[0m\u001b[1;33m+\u001b[0m\u001b[1;36m1\u001b[0m\u001b[1;33m]\u001b[0m\u001b[1;33m\u001b[0m\u001b[0m\n\u001b[1;32m----> 6\u001b[1;33m     \u001b[1;32mreturn\u001b[0m \u001b[0msig\u001b[0m\u001b[1;33m(\u001b[0m\u001b[0munit_output\u001b[0m\u001b[1;33m)\u001b[0m\u001b[1;33m\u001b[0m\u001b[0m\n\u001b[0m",
      "\u001b[1;32m<ipython-input-648-ea40734d2c3b>\u001b[0m in \u001b[0;36msig\u001b[1;34m(x)\u001b[0m\n\u001b[0;32m      1\u001b[0m \u001b[1;32mdef\u001b[0m \u001b[0msig\u001b[0m\u001b[1;33m(\u001b[0m\u001b[0mx\u001b[0m\u001b[1;33m)\u001b[0m\u001b[1;33m:\u001b[0m\u001b[1;33m\u001b[0m\u001b[0m\n\u001b[1;32m----> 2\u001b[1;33m     \u001b[1;32mreturn\u001b[0m \u001b[1;36m1\u001b[0m\u001b[1;33m/\u001b[0m\u001b[1;33m(\u001b[0m\u001b[1;36m1\u001b[0m\u001b[1;33m+\u001b[0m\u001b[0mexp\u001b[0m\u001b[1;33m(\u001b[0m\u001b[1;33m-\u001b[0m\u001b[1;36m1\u001b[0m\u001b[1;33m*\u001b[0m\u001b[0mx\u001b[0m\u001b[1;33m)\u001b[0m\u001b[1;33m)\u001b[0m\u001b[1;33m\u001b[0m\u001b[0m\n\u001b[0m",
      "\u001b[1;31mKeyboardInterrupt\u001b[0m: "
     ]
    }
   ],
   "source": [
    "epochs = 100\n",
    "weights = initial_weights.copy()\n",
    "gd_loss_history = []\n",
    "\n",
    "for e in range(epochs):\n",
    "    \n",
    "    if 0 == (e%10):\n",
    "        #Meassures the train accuracy\n",
    "        acc = 0\n",
    "        for xi in X_train:\n",
    "            N = logistic_regression_f(xi, weights)\n",
    "            pred = N.constant_cf\n",
    "            if pred > 0.5:\n",
    "                pred = 1\n",
    "            else:\n",
    "                pred = 0\n",
    "            if pred == y_f(xi):\n",
    "                acc += 1/X_train.shape[0]            \n",
    "        \n",
    "        print('Epoch {0}: accuracy {1}'.format(e, acc))    \n",
    "        gd_loss_history.append(acc)\n",
    "        \n",
    "    loss = 0\n",
    "    for xi in X_train:\n",
    "            N = logistic_regression_f(xi, weights)\n",
    "            loss += loss_f(N, y_f(xi))   \n",
    "            \n",
    "    loss /= X_train.shape[0]\n",
    "    weights = GD_update(loss, weights, 1)    \n"
   ]
  },
  {
   "cell_type": "code",
   "execution_count": 771,
   "metadata": {
    "collapsed": false
   },
   "outputs": [
    {
     "name": "stdout",
     "output_type": "stream",
     "text": [
      "0.91\n"
     ]
    },
    {
     "data": {
      "image/png": "[encoded data removed]",
      "text/plain": [
       "<matplotlib.figure.Figure at 0x7f37cf0787f0>"
      ]
     },
     "metadata": {},
     "output_type": "display_data"
    }
   ],
   "source": [
    "errors = 0\n",
    "\n",
    "X_vis = vis_proj(X)\n",
    "for i in range(X.shape[0]):\n",
    "    N = logistic_regression_f(X[i,:], weights)\n",
    "    pred = N.constant_cf\n",
    "    \n",
    "    if pred > 0.5:\n",
    "            pred = 1\n",
    "    else:\n",
    "            pred = 0\n",
    "    if pred == 1:\n",
    "        plt.scatter(X_vis[i,0], X_vis[i,1], c='green', edgecolors='none')\n",
    "    else:\n",
    "        plt.scatter(X_vis[i,0], X_vis[i,1], c='red', edgecolors='none')\n",
    "   \n",
    "    if pred == y_f(X[i,::]):                \n",
    "        errors +=1\n",
    "        \n",
    "print(errors*1.0/X.shape[0])        "
   ]
  },
  {
   "cell_type": "markdown",
   "metadata": {},
   "source": [
    "We update the weights with gradient descent using the Hessian and the first order derivatives of the loss function with respect to the weights (and biases)"
   ]
  },
  {
   "cell_type": "code",
   "execution_count": 772,
   "metadata": {
    "collapsed": false
   },
   "outputs": [],
   "source": [
    "def hessian(loss, w):\n",
    "    \n",
    "    num_params = len(w)\n",
    "    \n",
    "    partials = np.zeros((num_params, num_params))\n",
    "\n",
    "    for i in range(len(w)):\n",
    "        for ii in range(len(w)):\n",
    "            wi = w[i]\n",
    "            wii = w[ii]\n",
    "            if wi.symbol_set[0] in loss.symbol_set and wii.symbol_set[0] in loss.symbol_set:\n",
    "                idx = loss.symbol_set.index(wi.symbol_set[0])\n",
    "                iidx = loss.symbol_set.index(wii.symbol_set[0])\n",
    "                dw_idx = [0]*loss.symbol_set_size                    \n",
    "                dw_idx[idx] += 1\n",
    "                dw_idx[iidx] += 1\n",
    "                partial = loss.get_derivative(dw_idx)\n",
    "            else:\n",
    "                partial = 0\n",
    "\n",
    "            partials[i,ii] = partial\n",
    "    return partials#np.linalg.inv(partials)"
   ]
  },
  {
   "cell_type": "code",
   "execution_count": 773,
   "metadata": {
    "collapsed": false
   },
   "outputs": [],
   "source": [
    "def first_order_devs(loss, w):\n",
    "    \n",
    "    num_params = len(w)\n",
    "    \n",
    "    devs = np.zeros((num_params))\n",
    "\n",
    "    for i in range(len(w)):\n",
    "            if w[i].symbol_set[0] in loss.symbol_set:\n",
    "                dw_idx = [0]*loss.symbol_set_size                    \n",
    "                dw_idx[i] = 1\n",
    "                d = loss.get_derivative(dw_idx)\n",
    "            else:\n",
    "                d = 0\n",
    "\n",
    "            devs[i] = d\n",
    "            \n",
    "    return devs"
   ]
  },
  {
   "cell_type": "code",
   "execution_count": 813,
   "metadata": {
    "collapsed": false
   },
   "outputs": [],
   "source": [
    "def Newton_update(loss, w):\n",
    "    \n",
    "\n",
    "    d = first_order_devs(loss, w)\n",
    "    H = hessian(loss, w)\n",
    "    \n",
    "    #updates = np.dot(H, d.reshape(-1,1))\n",
    "    updates = np.linalg.lstsq(H,d)[0]\n",
    "    \n",
    "    i=0\n",
    "    for i in range(len(w)):\n",
    "        w[i] -= updates[i]\n",
    "    \n",
    "    return w"
   ]
  },
  {
   "cell_type": "code",
   "execution_count": 1050,
   "metadata": {
    "collapsed": false
   },
   "outputs": [],
   "source": [
    "def loss_f(N,y):\n",
    "    if N.constant_cf == 0:\n",
    "        if y==0:\n",
    "            return 0*N\n",
    "        else:\n",
    "            return log(N+1e-10)\n",
    "    elif N.constant_cf ==1:\n",
    "        if y==1:\n",
    "            return 0*N\n",
    "        else:\n",
    "            return log(1-N+1e-10)\n",
    "        \n",
    "    return -1*(log(N)*y+log(1-N)*(1-y))\n",
    "    #return -1*((N)**y+(1-N)**(1-y))\n",
    "\n"
   ]
  },
  {
   "cell_type": "code",
   "execution_count": 1078,
   "metadata": {
    "collapsed": true
   },
   "outputs": [],
   "source": [
    "initial_weights = initialize_weights(n_inputs, order)                "
   ]
  },
  {
   "cell_type": "code",
   "execution_count": 1079,
   "metadata": {
    "collapsed": true
   },
   "outputs": [],
   "source": [
    "weights = initial_weights.copy()"
   ]
  },
  {
   "cell_type": "code",
   "execution_count": 1084,
   "metadata": {
    "collapsed": false
   },
   "outputs": [
    {
     "name": "stdout",
     "output_type": "stream",
     "text": [
      "0.0\n",
      "-23.025850929940457\n",
      "0.0\n",
      "-23.025850929940457\n",
      "-23.025850929940457\n",
      "0.0\n",
      "-23.025850929940457\n",
      "0.0\n",
      "0.0\n",
      "-23.025850929940457\n",
      "0.0\n",
      "-23.025850929940457\n",
      "-23.025850929940457\n",
      "-23.025850929940457\n",
      "0.0\n",
      "0.0\n",
      "0.0\n",
      "0.0\n",
      "0.0\n",
      "0.0\n",
      "-23.025850929940457\n",
      "0.0\n",
      "-23.025850929940457\n",
      "-23.025850929940457\n",
      "-23.025850929940457\n",
      "-23.025850929940457\n",
      "0.0\n",
      "-23.025850929940457\n",
      "-23.025850929940457\n",
      "0.0\n",
      "0.0\n",
      "0.0\n",
      "-23.025850929940457\n",
      "0.0\n",
      "0.0\n",
      "-23.025850929940457\n",
      "-23.025850929940457\n",
      "0.0\n",
      "-23.025850929940457\n",
      "0.0\n",
      "-23.025850929940457\n",
      "0.0\n",
      "0.0\n",
      "-23.025850929940457\n",
      "0.0\n",
      "-23.025850929940457\n",
      "0.0\n",
      "0.0\n",
      "-23.025850929940457\n",
      "-23.025850929940457\n",
      "0.0\n",
      "-23.025850929940457\n",
      "0.0\n",
      "0.0\n",
      "-23.025850929940457\n",
      "0.0\n",
      "-23.025850929940457\n",
      "-23.025850929940457\n",
      "0.0\n",
      "-23.025850929940457\n",
      "0.0\n",
      "0.0\n",
      "-23.025850929940457\n",
      "0.0\n",
      "-23.025850929940457\n",
      "0.0\n",
      "-23.025850929940457\n",
      "0.0\n",
      "0.0\n",
      "-23.025850929940457\n",
      "-23.025850929940457\n",
      "0.0\n",
      "0.0\n",
      "0.0\n",
      "-23.025850929940457\n",
      "0.0\n",
      "0.0\n",
      "0.0\n",
      "-23.025850929940457\n",
      "0.0\n",
      "-23.025850929940457\n",
      "-23.025850929940457\n",
      "0.0\n",
      "-23.025850929940457\n",
      "0.0\n",
      "-23.025850929940457\n",
      "-23.025850929940457\n",
      "-23.025850929940457\n",
      "-23.025850929940457\n",
      "0.0\n",
      "0.0\n",
      "0.0\n",
      "-23.025850929940457\n",
      "-23.025850929940457\n",
      "0.0\n",
      "-23.025850929940457\n",
      "-23.025850929940457\n",
      "-23.025850929940457\n",
      "-23.025850929940457\n",
      "0.0\n",
      "0.0\n",
      "-23.025850929940457\n",
      "0.0\n",
      "-23.025850929940457\n",
      "-23.025850929940457\n",
      "0.0\n",
      "0.0\n",
      "-23.025850929940457\n",
      "0.0\n",
      "0.0\n",
      "0.0\n",
      "-23.025850929940457\n",
      "-23.025850929940457\n",
      "-23.025850929940457\n",
      "-23.025850929940457\n",
      "0.0\n",
      "0.0\n",
      "-23.025850929940457\n",
      "0.0\n",
      "-23.025850929940457\n",
      "0.0\n",
      "0.0\n",
      "-23.025850929940457\n",
      "0.0\n",
      "0.0\n",
      "-23.025850929940457\n",
      "0.0\n",
      "0.0\n",
      "0.0\n",
      "0.0\n",
      "-23.025850929940457\n",
      "0.0\n",
      "-23.025850929940457\n",
      "0.0\n",
      "0.0\n",
      "-23.025850929940457\n",
      "0.0\n",
      "0.0\n",
      "0.0\n",
      "-23.025850929940457\n",
      "0.0\n",
      "0.0\n",
      "0.0\n",
      "0.0\n",
      "-23.025850929940457\n",
      "0.0\n",
      "0.0\n",
      "0.0\n",
      "0.0\n",
      "-23.025850929940457\n",
      "0.0\n",
      "-23.025850929940457\n",
      "-23.025850929940457\n",
      "-23.025850929940457\n",
      "-23.025850929940457\n",
      "0.0\n",
      "0.0\n",
      "-23.025850929940457\n",
      "0.0\n",
      "0.0\n",
      "0.0\n",
      "0.0\n",
      "0.0\n",
      "-23.025850929940457\n",
      "0.0\n",
      "-23.025850929940457\n",
      "0.0\n",
      "-23.025850929940457\n",
      "0.0\n",
      "-23.025850929940457\n",
      "-23.025850929940457\n",
      "-23.025850929940457\n",
      "0.0\n",
      "0.0\n",
      "0.0\n",
      "0.0\n",
      "0.0\n",
      "0.0\n",
      "0.0\n",
      "0.0\n",
      "0.0\n",
      "-23.025850929940457\n",
      "0.0\n",
      "0.0\n",
      "0.0\n",
      "0.0\n",
      "0.0\n",
      "-23.025850929940457\n",
      "0.0\n",
      "-23.025850929940457\n",
      "0.0\n",
      "0.0\n",
      "-23.025850929940457\n",
      "-23.025850929940457\n",
      "0.0\n",
      "0.0\n",
      "-23.025850929940457\n",
      "-23.025850929940457\n",
      "0.0\n",
      "0.0\n",
      "-23.025850929940457\n",
      "-23.025850929940457\n",
      "0.0\n",
      "0.0\n",
      "0.0\n",
      "-23.025850929940457\n",
      "0.0\n",
      "0.0\n",
      "-23.025850929940457\n",
      "-23.025850929940457\n",
      "0.0\n",
      "0.0\n",
      "0.0\n",
      "0.0\n",
      "0.0\n",
      "-23.025850929940457\n",
      "0.0\n",
      "-23.025850929940457\n",
      "0.0\n",
      "0.0\n",
      "0.0\n",
      "0.0\n",
      "0.0\n",
      "0.0\n",
      "0.0\n",
      "0.0\n",
      "-23.025850929940457\n",
      "0.0\n",
      "-23.025850929940457\n",
      "-23.025850929940457\n",
      "-23.025850929940457\n",
      "-23.025850929940457\n",
      "0.0\n",
      "0.0\n",
      "0.0\n",
      "0.0\n",
      "-23.025850929940457\n",
      "0.0\n",
      "0.0\n",
      "0.0\n",
      "-23.025850929940457\n",
      "0.0\n",
      "-23.025850929940457\n",
      "-23.025850929940457\n",
      "0.0\n",
      "0.0\n",
      "0.0\n",
      "0.0\n",
      "0.0\n",
      "0.0\n",
      "-23.025850929940457\n",
      "0.0\n",
      "0.0\n",
      "0.0\n",
      "0.0\n",
      "0.0\n",
      "0.0\n",
      "0.0\n",
      "0.0\n",
      "0.0\n",
      "0.0\n",
      "0.0\n",
      "0.0\n",
      "0.0\n",
      "0.0\n",
      "0.0\n",
      "-23.025850929940457\n",
      "0.0\n",
      "0.0\n",
      "-23.025850929940457\n",
      "-23.025850929940457\n",
      "-23.025850929940457\n",
      "-23.025850929940457\n",
      "0.0\n",
      "-23.025850929940457\n",
      "-23.025850929940457\n",
      "0.0\n",
      "-23.025850929940457\n",
      "-23.025850929940457\n",
      "0.0\n",
      "0.0\n",
      "0.0\n",
      "0.0\n",
      "-23.025850929940457\n",
      "0.0\n",
      "0.0\n",
      "-23.025850929940457\n",
      "0.0\n",
      "-23.025850929940457\n",
      "0.0\n",
      "0.0\n",
      "0.0\n",
      "0.0\n",
      "-23.025850929940457\n",
      "0.0\n",
      "0.0\n",
      "-23.025850929940457\n",
      "0.0\n",
      "-23.025850929940457\n",
      "-23.025850929940457\n",
      "0.0\n",
      "-23.025850929940457\n",
      "0.0\n",
      "0.0\n",
      "0.0\n",
      "-23.025850929940457\n",
      "0.0\n",
      "0.0\n",
      "0.0\n",
      "0.0\n",
      "0.0\n",
      "-23.025850929940457\n",
      "-23.025850929940457\n",
      "0.0\n",
      "-23.025850929940457\n",
      "-23.025850929940457\n",
      "0.0\n",
      "0.0\n",
      "0.0\n",
      "0.0\n",
      "0.0\n",
      "-23.025850929940457\n",
      "0.0\n",
      "-23.025850929940457\n",
      "0.0\n",
      "0.0\n",
      "-23.025850929940457\n",
      "0.0\n",
      "0.0\n",
      "-23.025850929940457\n",
      "0.0\n",
      "-23.025850929940457\n",
      "0.0\n",
      "0.0\n",
      "-23.025850929940457\n",
      "0.0\n",
      "0.0\n",
      "-23.025850929940457\n",
      "0.0\n",
      "-23.025850929940457\n",
      "0.0\n",
      "-23.025850929940457\n",
      "0.0\n",
      "0.0\n",
      "-23.025850929940457\n",
      "0.0\n",
      "-23.025850929940457\n",
      "0.0\n",
      "-23.025850929940457\n",
      "0.0\n",
      "0.0\n",
      "0.0\n",
      "0.0\n",
      "0.0\n",
      "-23.025850929940457\n",
      "0.0\n",
      "-23.025850929940457\n",
      "0.0\n",
      "0.0\n",
      "-23.025850929940457\n",
      "0.0\n",
      "-23.025850929940457\n",
      "-23.025850929940457\n",
      "-23.025850929940457\n",
      "0.0\n",
      "0.0\n",
      "-23.025850929940457\n",
      "-23.025850929940457\n",
      "0.0\n",
      "-23.025850929940457\n",
      "-23.025850929940457\n",
      "-23.025850929940457\n",
      "-23.025850929940457\n",
      "-23.025850929940457\n",
      "0.0\n",
      "-23.025850929940457\n",
      "-23.025850929940457\n",
      "0.0\n",
      "0.0\n",
      "-23.025850929940457\n",
      "-23.025850929940457\n",
      "-23.025850929940457\n",
      "0.0\n",
      "-23.025850929940457\n",
      "0.0\n",
      "0.0\n",
      "-23.025850929940457\n",
      "-23.025850929940457\n",
      "0.0\n",
      "0.0\n",
      "-23.025850929940457\n",
      "0.0\n",
      "0.0\n",
      "-23.025850929940457\n",
      "-23.025850929940457\n",
      "0.0\n",
      "0.0\n",
      "0.0\n",
      "-23.025850929940457\n",
      "-23.025850929940457\n",
      "0.0\n",
      "0.0\n",
      "0.0\n",
      "0.0\n",
      "0.0\n",
      "0.0\n",
      "-23.025850929940457\n",
      "0.0\n",
      "0.0\n",
      "0.0\n",
      "-23.025850929940457\n",
      "0.0\n",
      "-23.025850929940457\n",
      "0.0\n",
      "0.0\n",
      "-23.025850929940457\n",
      "-23.025850929940457\n",
      "-23.025850929940457\n",
      "-23.025850929940457\n",
      "0.0\n",
      "-23.025850929940457\n",
      "-23.025850929940457\n",
      "0.0\n",
      "-23.025850929940457\n",
      "0.0\n",
      "0.0\n",
      "0.0\n",
      "-23.025850929940457\n",
      "0.0\n",
      "-23.025850929940457\n",
      "0.0\n",
      "0.0\n",
      "-23.025850929940457\n",
      "-23.025850929940457\n",
      "-23.025850929940457\n",
      "0.0\n",
      "0.0\n",
      "0.0\n",
      "0.0\n",
      "-23.025850929940457\n",
      "0.0\n",
      "0.0\n",
      "0.0\n",
      "-23.025850929940457\n",
      "0.0\n",
      "-23.025850929940457\n",
      "0.0\n",
      "0.0\n",
      "-23.025850929940457\n",
      "-23.025850929940457\n",
      "-23.025850929940457\n",
      "-23.025850929940457\n",
      "0.0\n",
      "-23.025850929940457\n",
      "0.0\n",
      "0.0\n",
      "0.0\n",
      "-23.025850929940457\n",
      "-23.025850929940457\n",
      "-23.025850929940457\n",
      "0.0\n",
      "0.0\n",
      "0.0\n",
      "0.0\n",
      "-23.025850929940457\n",
      "0.0\n",
      "0.0\n",
      "0.0\n",
      "-23.025850929940457\n",
      "-23.025850929940457\n",
      "0.0\n",
      "-23.025850929940457\n",
      "-23.025850929940457\n",
      "0.0\n",
      "0.0\n",
      "0.0\n",
      "-23.025850929940457\n",
      "-23.025850929940457\n",
      "-23.025850929940457\n",
      "0.0\n",
      "-23.025850929940457\n",
      "0.0\n",
      "-23.025850929940457\n",
      "-23.025850929940457\n",
      "0.0\n",
      "-23.025850929940457\n",
      "0.0\n",
      "0.0\n",
      "0.0\n",
      "-23.025850929940457\n",
      "0.0\n",
      "0.0\n",
      "-23.025850929940457\n",
      "-23.025850929940457\n",
      "0.0\n",
      "0.0\n",
      "-23.025850929940457\n",
      "-23.025850929940457\n",
      "-23.025850929940457\n",
      "0.0\n",
      "-9.486650583135466\n",
      "[ 0.  0.  0.  0.  0.  0.  0.  0.  0.  0.  0.  0.  0.  0.  0.  0.  0.  0.\n",
      "  0.  0.  0.]\n",
      "Epoch 72: accuracy 0.5880000000000004\n"
     ]
    }
   ],
   "source": [
    "for j in range(1):\n",
    "        loss = 0\n",
    "        for i in range(X_train.shape[0]):\n",
    "                    N = logistic_regression_f(X_train[i], weights)\n",
    "                    loss += loss_f(N, Y_train[i]) \n",
    "                    print(loss_f(N, Y_train[i]).constant_cf)\n",
    "        loss /= X_train.shape[0]\n",
    "        print(loss.constant_cf)\n",
    "        d = first_order_devs(loss, weights)\n",
    "        H = hessian(loss, weights)\n",
    "        updates = np.linalg.lstsq(H,d)[0]\n",
    "        print(updates)\n",
    "        for i in range(len(weights)):\n",
    "                weights[i] -= updates[i]\n",
    "            \n",
    "        #Meassures the train accuracy\n",
    "        acc = 0\n",
    "        for i in range(X_train.shape[0]):\n",
    "            N = logistic_regression_f(X_train[i], weights)\n",
    "            pred = N.constant_cf\n",
    "            if pred > 0.5:\n",
    "                pred = 1\n",
    "            else:\n",
    "                pred = 0\n",
    "            if pred == Y_train[i]:\n",
    "                acc += 1/X_train.shape[0]            \n",
    "        \n",
    "        print('Epoch {0}: accuracy {1}'.format(e, acc))    \n",
    "        Newton_loss_history.append(acc)\n",
    "        \n",
    "            "
   ]
  },
  {
   "cell_type": "code",
   "execution_count": 1075,
   "metadata": {
    "collapsed": false
   },
   "outputs": [
    {
     "name": "stdout",
     "output_type": "stream",
     "text": [
      "3.404276049932445e+29\n",
      "433318188453002.5\n",
      "1.4294076592748648e+16\n",
      "9310783133593098.0\n",
      "1.4251677310933876e+16\n",
      "-1.0902715599239196e+16\n",
      "-2837861163025661.0\n",
      "-1.911029523193886e+16\n",
      "3369515370167113.0\n",
      "-2010779643321878.2\n",
      "-2.303757286423569e+16\n",
      "-1.405466100687358e+16\n",
      "3909061572331916.0\n",
      "5509087704253995.0\n",
      "2906267810676649.0\n",
      "3.751747205181133e+16\n",
      "-6.5771214819930744e+16\n",
      "-4226460477535513.0\n",
      "-240562485849137.0\n",
      "-1.1614281858582292e+16\n",
      "546917671843394.0\n"
     ]
    }
   ],
   "source": [
    "for w in weights:\n",
    "    print(w.constant_cf)"
   ]
  },
  {
   "cell_type": "code",
   "execution_count": 1076,
   "metadata": {
    "collapsed": false
   },
   "outputs": [
    {
     "name": "stdout",
     "output_type": "stream",
     "text": [
      "Epoch 72: accuracy 0.47000000000000036\n"
     ]
    }
   ],
   "source": [
    "        #Meassures the train accuracy\n",
    "        acc = 0\n",
    "        for i in range(X_train.shape[0]):\n",
    "            N = logistic_regression_f(X_train[i], weights)\n",
    "            pred = N.constant_cf\n",
    "            if pred > 0.5:\n",
    "                pred = 1\n",
    "            else:\n",
    "                pred = 0\n",
    "            if pred == Y_train[i]:\n",
    "                acc += 1/X_train.shape[0]            \n",
    "        \n",
    "        print('Epoch {0}: accuracy {1}'.format(e, acc))    \n",
    "        Newton_loss_history.append(acc)\n",
    "        \n"
   ]
  },
  {
   "cell_type": "code",
   "execution_count": 1061,
   "metadata": {
    "collapsed": false
   },
   "outputs": [
    {
     "name": "stdout",
     "output_type": "stream",
     "text": [
      "0.259\n"
     ]
    },
    {
     "data": {
      "image/png": "[encoded data removed]",
      "text/plain": [
       "<matplotlib.figure.Figure at 0x7f37cf3a7358>"
      ]
     },
     "metadata": {},
     "output_type": "display_data"
    }
   ],
   "source": [
    "errors = 0\n",
    "\n",
    "X_vis = vis_proj(X_test)\n",
    "for i in range(X_test.shape[0]):\n",
    "    N = logistic_regression_f(X_test[i,:], weights)\n",
    "    pred = N.constant_cf\n",
    "    \n",
    "    if pred > 0.5:\n",
    "            pred = 1\n",
    "    else:\n",
    "            pred = 0\n",
    "    if pred == 1:\n",
    "        plt.scatter(X_vis[i,0], X_vis[i,1], c='green', edgecolors='none')\n",
    "    else:\n",
    "        plt.scatter(X_vis[i,0], X_vis[i,1], c='red', edgecolors='none')\n",
    "   \n",
    "    if pred == Y_test[i]:                \n",
    "        errors +=1\n",
    "        \n",
    "print(errors*1.0/X.shape[0])        "
   ]
  },
  {
   "cell_type": "code",
   "execution_count": null,
   "metadata": {
    "collapsed": true
   },
   "outputs": [],
   "source": [
    "weights = initial_weights.copy()"
   ]
  },
  {
   "cell_type": "code",
   "execution_count": 855,
   "metadata": {
    "collapsed": false
   },
   "outputs": [
    {
     "name": "stdout",
     "output_type": "stream",
     "text": [
      "Epoch 0: accuracy 0.5960000000000004\n",
      "Epoch 10: accuracy 0.46400000000000036\n",
      "Epoch 20: accuracy 0.46400000000000036\n",
      "Epoch 30: accuracy 0.46400000000000036\n",
      "Epoch 40: accuracy 0.46400000000000036\n",
      "Epoch 50: accuracy 0.46400000000000036\n",
      "Epoch 60: accuracy 0.46400000000000036\n",
      "Epoch 70: accuracy 0.46400000000000036\n"
     ]
    },
    {
     "ename": "KeyboardInterrupt",
     "evalue": "",
     "output_type": "error",
     "traceback": [
      "\u001b[1;31m---------------------------------------------------------------------------\u001b[0m",
      "\u001b[1;31mKeyboardInterrupt\u001b[0m                         Traceback (most recent call last)",
      "\u001b[1;32m<ipython-input-855-32dcbd58e762>\u001b[0m in \u001b[0;36m<module>\u001b[1;34m()\u001b[0m\n\u001b[0;32m     23\u001b[0m     \u001b[0mloss\u001b[0m \u001b[1;33m=\u001b[0m \u001b[1;36m0\u001b[0m\u001b[1;33m\u001b[0m\u001b[0m\n\u001b[0;32m     24\u001b[0m     \u001b[1;32mfor\u001b[0m \u001b[0mi\u001b[0m \u001b[1;32min\u001b[0m \u001b[0mrange\u001b[0m\u001b[1;33m(\u001b[0m\u001b[0mX_train\u001b[0m\u001b[1;33m.\u001b[0m\u001b[0mshape\u001b[0m\u001b[1;33m[\u001b[0m\u001b[1;36m0\u001b[0m\u001b[1;33m]\u001b[0m\u001b[1;33m)\u001b[0m\u001b[1;33m:\u001b[0m\u001b[1;33m\u001b[0m\u001b[0m\n\u001b[1;32m---> 25\u001b[1;33m             \u001b[0mN\u001b[0m \u001b[1;33m=\u001b[0m \u001b[0mlogistic_regression_f\u001b[0m\u001b[1;33m(\u001b[0m\u001b[0mX_train\u001b[0m\u001b[1;33m[\u001b[0m\u001b[0mi\u001b[0m\u001b[1;33m]\u001b[0m\u001b[1;33m,\u001b[0m \u001b[0mweights\u001b[0m\u001b[1;33m)\u001b[0m\u001b[1;33m\u001b[0m\u001b[0m\n\u001b[0m\u001b[0;32m     26\u001b[0m             \u001b[0mloss\u001b[0m \u001b[1;33m+=\u001b[0m \u001b[0mloss_f\u001b[0m\u001b[1;33m(\u001b[0m\u001b[0mN\u001b[0m\u001b[1;33m,\u001b[0m \u001b[0mY_train\u001b[0m\u001b[1;33m[\u001b[0m\u001b[0mi\u001b[0m\u001b[1;33m]\u001b[0m\u001b[1;33m)\u001b[0m\u001b[1;33m\u001b[0m\u001b[0m\n\u001b[0;32m     27\u001b[0m \u001b[1;33m\u001b[0m\u001b[0m\n",
      "\u001b[1;32m<ipython-input-649-32aa78b97409>\u001b[0m in \u001b[0;36mlogistic_regression_f\u001b[1;34m(inputs, w)\u001b[0m\n\u001b[0;32m      3\u001b[0m     \u001b[0munit_output\u001b[0m \u001b[1;33m=\u001b[0m \u001b[0mw\u001b[0m\u001b[1;33m[\u001b[0m\u001b[1;36m0\u001b[0m\u001b[1;33m]\u001b[0m\u001b[1;33m\u001b[0m\u001b[0m\n\u001b[0;32m      4\u001b[0m     \u001b[1;32mfor\u001b[0m \u001b[0munit\u001b[0m \u001b[1;32min\u001b[0m \u001b[0mrange\u001b[0m\u001b[1;33m(\u001b[0m\u001b[0mlen\u001b[0m\u001b[1;33m(\u001b[0m\u001b[0mweights\u001b[0m\u001b[1;33m)\u001b[0m\u001b[1;33m-\u001b[0m\u001b[1;36m1\u001b[0m\u001b[1;33m)\u001b[0m\u001b[1;33m:\u001b[0m\u001b[1;33m\u001b[0m\u001b[0m\n\u001b[1;32m----> 5\u001b[1;33m         \u001b[0munit_output\u001b[0m \u001b[1;33m+=\u001b[0m \u001b[0minputs\u001b[0m\u001b[1;33m[\u001b[0m\u001b[0munit\u001b[0m\u001b[1;33m]\u001b[0m\u001b[1;33m*\u001b[0m\u001b[0mweights\u001b[0m\u001b[1;33m[\u001b[0m\u001b[0munit\u001b[0m\u001b[1;33m+\u001b[0m\u001b[1;36m1\u001b[0m\u001b[1;33m]\u001b[0m\u001b[1;33m\u001b[0m\u001b[0m\n\u001b[0m\u001b[0;32m      6\u001b[0m     \u001b[1;32mreturn\u001b[0m \u001b[0msig\u001b[0m\u001b[1;33m(\u001b[0m\u001b[0munit_output\u001b[0m\u001b[1;33m)\u001b[0m\u001b[1;33m\u001b[0m\u001b[0m\n",
      "\u001b[1;31mKeyboardInterrupt\u001b[0m: "
     ]
    }
   ],
   "source": [
    "epochs = 100\n",
    "weights = initial_weights.copy()\n",
    "Newton_loss_history = []\n",
    "\n",
    "for e in range(epochs):\n",
    "    \n",
    "    if 0 == (e%10):\n",
    "        #Meassures the train accuracy\n",
    "        acc = 0\n",
    "        for i in range(X_train.shape[0]):\n",
    "            N = logistic_regression_f(X_train[i], weights)\n",
    "            pred = N.constant_cf\n",
    "            if pred > 0.5:\n",
    "                pred = 1\n",
    "            else:\n",
    "                pred = 0\n",
    "            if pred == Y_train[i]:\n",
    "                acc += 1/X_train.shape[0]            \n",
    "        \n",
    "        print('Epoch {0}: accuracy {1}'.format(e, acc))    \n",
    "        Newton_loss_history.append(acc)\n",
    "        \n",
    "    loss = 0\n",
    "    for i in range(X_train.shape[0]):\n",
    "            N = logistic_regression_f(X_train[i], weights)\n",
    "            loss += loss_f(N, Y_train[i])\n",
    "            \n",
    "    loss /= X_train.shape[0]\n",
    "    weights = Newton_update(loss, weights)    \n"
   ]
  },
  {
   "cell_type": "code",
   "execution_count": 831,
   "metadata": {
    "collapsed": false
   },
   "outputs": [
    {
     "name": "stdout",
     "output_type": "stream",
     "text": [
      "0.461\n"
     ]
    },
    {
     "data": {
      "image/png": "[encoded data removed]",
      "text/plain": [
       "<matplotlib.figure.Figure at 0x7f37ce84c940>"
      ]
     },
     "metadata": {},
     "output_type": "display_data"
    }
   ],
   "source": [
    "errors = 0\n",
    "\n",
    "X_vis = vis_proj(X)\n",
    "for i in range(X.shape[0]):\n",
    "    N = logistic_regression_f(X[i,:], weights)\n",
    "    pred = N.constant_cf\n",
    "    \n",
    "    if pred > 0.5:\n",
    "            pred = 1\n",
    "    else:\n",
    "            pred = 0\n",
    "    if pred == 1:\n",
    "        plt.scatter(X_vis[i,0], X_vis[i,1], c='green', edgecolors='none')\n",
    "    else:\n",
    "        plt.scatter(X_vis[i,0], X_vis[i,1], c='red', edgecolors='none')\n",
    "   \n",
    "    if pred == y_f(X[i,::]):                \n",
    "        errors +=1\n",
    "        \n",
    "print(errors*1.0/X.shape[0])        "
   ]
  },
  {
   "cell_type": "code",
   "execution_count": null,
   "metadata": {
    "collapsed": false
   },
   "outputs": [],
   "source": [
    "plt.plot(gd_loss_history)\n",
    "plt.plot(Newton_loss_history)"
   ]
  }
 ],
 "metadata": {
  "kernelspec": {
   "display_name": "Python 3",
   "language": "python",
   "name": "python3"
  },
  "language_info": {
   "codemirror_mode": {
    "name": "ipython",
    "version": 3
   },
   "file_extension": ".py",
   "mimetype": "text/x-python",
   "name": "python",
   "nbconvert_exporter": "python",
   "pygments_lexer": "ipython3",
   "version": "3.5.1"
  }
 },
 "nbformat": 4,
 "nbformat_minor": 0
}
