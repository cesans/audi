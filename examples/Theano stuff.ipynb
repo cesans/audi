{
 "cells": [
  {
   "cell_type": "code",
   "execution_count": 55,
   "metadata": {
    "collapsed": false
   },
   "outputs": [],
   "source": [
    "import theano\n",
    "import theano.tensor as T\n",
    "import theano.gradient\n"
   ]
  },
  {
   "cell_type": "code",
   "execution_count": 107,
   "metadata": {
    "collapsed": true
   },
   "outputs": [],
   "source": [
    "input_size = 4\n",
    "hidden_size = 3\n",
    "output_size = 1"
   ]
  },
  {
   "cell_type": "code",
   "execution_count": 136,
   "metadata": {
    "collapsed": true
   },
   "outputs": [],
   "source": [
    "parameters = theano.shared(numpy.concatenate(\n",
    "    [numpy.random.randn(input_size * hidden_size + hidden_size * output_size).astype(theano.config.floatX),\n",
    "     numpy.zeros(hidden_size + output_size, dtype=theano.config.floatX)])).flatten()"
   ]
  },
  {
   "cell_type": "code",
   "execution_count": 208,
   "metadata": {
    "collapsed": false
   },
   "outputs": [],
   "source": [
    "def get_N(parameters):\n",
    "    index_to = input_size * hidden_size\n",
    "    Wh = parameters[:index_to].reshape((input_size, hidden_size))\n",
    "\n",
    "    index_from = index_to\n",
    "    index_to += hidden_size * output_size\n",
    "    Wy = parameters[index_from:index_to].reshape((hidden_size, output_size))\n",
    "\n",
    "    index_from = index_to\n",
    "    index_to += hidden_size\n",
    "    bh = parameters[index_from:index_to]\n",
    "\n",
    "    index_from = index_to\n",
    "    by = parameters[index_from:]\n",
    "\n",
    "    x = T.matrix(dtype=theano.config.floatX)\n",
    "    y = tt.matrix(dtype=theano.config.floatX)\n",
    "\n",
    "    h = T.nnet.sigmoid(theano.dot(x, Wh) + bh)\n",
    "    z = theano.dot(h, Wy) + by\n",
    "    c = (z-y)**2\n",
    "    \n",
    "    gs = theano.grad(c, parameters)\n",
    "\n",
    "    hs = theano.gradient.hessian(c, parameters)\n",
    "\n",
    "    f = theano.function([x, y], [y, c, gs, hs])\n",
    "\n",
    "    return f"
   ]
  },
  {
   "cell_type": "code",
   "execution_count": 209,
   "metadata": {
    "collapsed": false
   },
   "outputs": [
    {
     "name": "stdout",
     "output_type": "stream",
     "text": [
      "0 (10, 1)\n",
      "1 ()\n",
      "2 (19,)\n",
      "3 (19, 19)\n"
     ]
    }
   ],
   "source": [
    "f = get_network(parameters)\n",
    "\n",
    "results = f(np.random.randn(batch_size, input_size).astype(theano.config.floatX),\n",
    "            np.random.randn(batch_size, output_size).astype(theano.config.floatX))\n",
    "for result_index, result in enumerate(results):\n",
    "    print(result_index, result.shape)\n",
    "    \n"
   ]
  },
  {
   "cell_type": "code",
   "execution_count": 210,
   "metadata": {
    "collapsed": false
   },
   "outputs": [
    {
     "name": "stdout",
     "output_type": "stream",
     "text": [
      "3.6305716542225825\n",
      "2.29765863444209\n",
      "1.3502252713892087\n",
      "0.8736594399975921\n",
      "0.6199375796732984\n",
      "0.4682681268533166\n",
      "0.374159146355772\n",
      "0.3140182523238952\n",
      "0.27447013684530525\n",
      "0.2476478981317712\n"
     ]
    }
   ],
   "source": [
    "parameters = theano.shared(numpy.concatenate(\n",
    "    [numpy.random.randn(input_size * hidden_size + hidden_size * output_size).astype(theano.config.floatX),\n",
    "     numpy.zeros(hidden_size + output_size, dtype=theano.config.floatX)]))\n",
    "ini_params = parameters\n",
    "\n",
    "f = get_network(parameters)\n",
    "\n",
    "batch_size = 10\n",
    "\n",
    "X = np.random.randn(batch_size, input_size).astype(theano.config.floatX)\n",
    "Y = np.sum(X,1).reshape(-1,1)\n",
    "for i in range(10):\n",
    "    results = f(X, Y)\n",
    "\n",
    "    inv_hs = np.linalg.pinv(results[-1])\n",
    "    updates = np.dot(inv_hs, results[-2])\n",
    "    updates = results[-2]*0.1\n",
    "    parameters = theano.shared(parameters.get_value()  - updates)\n",
    "    f = get_network(parameters)\n",
    "    print(results[1])"
   ]
  },
  {
   "cell_type": "code",
   "execution_count": 224,
   "metadata": {
    "collapsed": false
   },
   "outputs": [
    {
     "name": "stdout",
     "output_type": "stream",
     "text": [
      "3.6305716542225825\n",
      "3.4159298061048724\n",
      "3.2453831992090727\n",
      "3.0853318821187257\n",
      "2.933569837563863\n",
      "2.7890869658982598\n",
      "2.6508682260094085\n",
      "2.5155266946454793\n",
      "2.3814398286502376\n",
      "2.252543393730584\n"
     ]
    }
   ],
   "source": [
    "parameters = ini_params\n",
    "\n",
    "f = get_network(parameters)\n",
    "\n",
    "\n",
    "#X = np.random.randn(batch_size, input_size).astype(theano.config.floatX)\n",
    "#Y = np.sum(X,1).reshape(-1,1)\n",
    "for i in range(10):\n",
    "    results = f(X, Y)\n",
    "\n",
    "    inv_hs = np.linalg.inv(results[-1])\n",
    "    descent_dir =  results[-2] / np.linalg.norm(results[-2])\n",
    "    updates = np.dot(inv_hs, descent_dir)*0.2\n",
    "    #updates = results[-2]*0.1\n",
    "    parameters = theano.shared(parameters.get_value()  - updates)\n",
    "    f = get_network(parameters)\n",
    "    print(results[1])"
   ]
  },
  {
   "cell_type": "code",
   "execution_count": null,
   "metadata": {
    "collapsed": true
   },
   "outputs": [],
   "source": []
  }
 ],
 "metadata": {
  "kernelspec": {
   "display_name": "Python 3",
   "language": "python",
   "name": "python3"
  },
  "language_info": {
   "codemirror_mode": {
    "name": "ipython",
    "version": 3
   },
   "file_extension": ".py",
   "mimetype": "text/x-python",
   "name": "python",
   "nbconvert_exporter": "python",
   "pygments_lexer": "ipython3",
   "version": "3.5.1"
  }
 },
 "nbformat": 4,
 "nbformat_minor": 0
}
